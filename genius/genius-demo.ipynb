{
 "cells": [
  {
   "cell_type": "markdown",
   "metadata": {},
   "source": [
    "# Explore the [Genius.com](https://genius.com/) API"
   ]
  },
  {
   "cell_type": "markdown",
   "metadata": {},
   "source": [
    "### Import the package"
   ]
  },
  {
   "cell_type": "code",
   "execution_count": 1,
   "metadata": {},
   "outputs": [],
   "source": [
    "import genius"
   ]
  },
  {
   "cell_type": "markdown",
   "metadata": {},
   "source": [
    "### Initialize the API client"
   ]
  },
  {
   "cell_type": "code",
   "execution_count": 3,
   "metadata": {},
   "outputs": [],
   "source": [
    "api = genius.Genius()"
   ]
  },
  {
   "cell_type": "markdown",
   "metadata": {},
   "source": [
    "### Search for a song"
   ]
  },
  {
   "cell_type": "code",
   "execution_count": 11,
   "metadata": {},
   "outputs": [
    {
     "name": "stdout",
     "output_type": "stream",
     "text": [
      "Searching for \"A day in the life\" by The Beatles...\n",
      "Done.\n",
      "\"A Day in the Life\" by The Beatles:\n",
      "    I read the news today, oh boy\n",
      "    About a lucky man who made the grade\n",
      "    And though the news was rather sa...\n"
     ]
    }
   ],
   "source": [
    "song = api.search_song(\"A day in the life\",\"The Beatles\")\n",
    "print(song)"
   ]
  },
  {
   "cell_type": "code",
   "execution_count": 12,
   "metadata": {
    "scrolled": true
   },
   "outputs": [
    {
     "name": "stdout",
     "output_type": "stream",
     "text": [
      "I read the news today, oh boy\n",
      "About a lucky man who made the grade\n",
      "And though the news was rather sad\n",
      "Well I just had to laugh\n",
      "I saw the photograph\n",
      "He blew his mind out in a car\n",
      "He didn't notice that the lights had changed\n",
      "A crowd of people stood and stared\n",
      "They'd seen his face before\n",
      "But nobody was really sure if he was from the House of Lords\n",
      "I saw a film today, oh, boy\n",
      "The English Army had just won the war\n",
      "A crowd of people turned away\n",
      "But I just had to look\n",
      "Having read the book\n",
      "I'd love to turn you on\n",
      "{alarm clock rings}\n",
      "\n",
      "Woke up, fell out of bed\n",
      "Dragged a comb across my head\n",
      "Found my way downstairs and drank a cup\n",
      "And looking up I noticed I was late\n",
      "Found my coat and grabbed my hat\n",
      "Made the bus in seconds flat\n",
      "Found my way upstairs and had a smoke\n",
      "And somebody spoke and I went into a dream\n",
      "\n",
      "I read the news today, oh boy\n",
      "4,000 holes in Blackburn, Lancashire\n",
      "And though the holes were rather small\n",
      "They had to count them all\n",
      "Now they know how many holes it takes to fill the Albert Hall\n",
      "I'd love to turn you on\n"
     ]
    }
   ],
   "source": [
    "print(song.lyrics)"
   ]
  },
  {
   "cell_type": "markdown",
   "metadata": {},
   "source": [
    "### Search for an artist"
   ]
  },
  {
   "cell_type": "code",
   "execution_count": 20,
   "metadata": {},
   "outputs": [
    {
     "name": "stdout",
     "output_type": "stream",
     "text": [
      "Searching for Andy Shauf...\n",
      "\n",
      "Song 1: \"Alexander All Alone\"\n",
      "Song 2: \"Begin Again\"\n",
      "Song 3: \"Comfortable With Silence\"\n",
      "Song 4: \"Covered in Dust\"\n",
      "Song 5: \"Crushes\"\n",
      "Song 6: \"Drink My Rivers\"\n",
      "Song 7: \"Early to the Party\"\n",
      "\n",
      "Reached user-specified song limit (7).\n",
      "Found 7 songs.\n",
      "\n",
      "Done.\n",
      "Andy Shauf, 7 songs\n"
     ]
    }
   ],
   "source": [
    "andy = api.search_artist(\"Andy Shauf\",max_songs=7)\n",
    "print(andy)"
   ]
  },
  {
   "cell_type": "code",
   "execution_count": 22,
   "metadata": {},
   "outputs": [
    {
     "name": "stdout",
     "output_type": "stream",
     "text": [
      "https://images.genius.com/16423bad48ffd400aac3ba86d5b86ed4.850x850x1.jpg\n"
     ]
    }
   ],
   "source": [
    "print(andy.image_url)"
   ]
  },
  {
   "cell_type": "code",
   "execution_count": 21,
   "metadata": {},
   "outputs": [
    {
     "data": {
      "text/plain": [
       "[('Alexander All Alone', 'Andy Shauf'),\n",
       " ('Begin Again', 'Andy Shauf'),\n",
       " ('Comfortable With Silence', 'Andy Shauf'),\n",
       " ('Covered in Dust', 'Andy Shauf'),\n",
       " ('Crushes', 'Andy Shauf'),\n",
       " ('Drink My Rivers', 'Andy Shauf'),\n",
       " ('Early to the Party', 'Andy Shauf')]"
      ]
     },
     "execution_count": 21,
     "metadata": {},
     "output_type": "execute_result"
    }
   ],
   "source": [
    "andy.songs"
   ]
  },
  {
   "cell_type": "code",
   "execution_count": 27,
   "metadata": {},
   "outputs": [
    {
     "name": "stdout",
     "output_type": "stream",
     "text": [
      "Begin again\n",
      "This time you should take a bow at the very end\n",
      "Its quite an act you put on\n",
      "Wait til the cameras roll\n",
      "Youre the leading man\n",
      "In a film wher\n"
     ]
    }
   ],
   "source": [
    "song = andy.songs[1]\n",
    "print(song.lyrics[:150])"
   ]
  },
  {
   "cell_type": "markdown",
   "metadata": {},
   "source": [
    "### Oh no, they've changed the API!"
   ]
  },
  {
   "cell_type": "code",
   "execution_count": 37,
   "metadata": {},
   "outputs": [
    {
     "ename": "KeyError",
     "evalue": "'release_date'",
     "output_type": "error",
     "traceback": [
      "\u001b[0;31m---------------------------------------------------------------------------\u001b[0m",
      "\u001b[0;31mKeyError\u001b[0m                                  Traceback (most recent call last)",
      "\u001b[0;32m<ipython-input-37-c9205ee6c647>\u001b[0m in \u001b[0;36m<module>\u001b[0;34m()\u001b[0m\n\u001b[1;32m      1\u001b[0m \u001b[0;31m# The response format of the JSON object from Genius.com changed...\u001b[0m\u001b[0;34m\u001b[0m\u001b[0;34m\u001b[0m\u001b[0m\n\u001b[0;32m----> 2\u001b[0;31m \u001b[0msong\u001b[0m\u001b[0;34m.\u001b[0m\u001b[0myear\u001b[0m\u001b[0;34m\u001b[0m\u001b[0m\n\u001b[0m",
      "\u001b[0;32m/Users/john/Downloads/GeniusAPI/genius/song.py\u001b[0m in \u001b[0;36myear\u001b[0;34m(self)\u001b[0m\n\u001b[1;32m     37\u001b[0m     \u001b[0;34m@\u001b[0m\u001b[0mproperty\u001b[0m\u001b[0;34m\u001b[0m\u001b[0m\n\u001b[1;32m     38\u001b[0m     \u001b[0;32mdef\u001b[0m \u001b[0myear\u001b[0m\u001b[0;34m(\u001b[0m\u001b[0mself\u001b[0m\u001b[0;34m)\u001b[0m\u001b[0;34m:\u001b[0m\u001b[0;34m\u001b[0m\u001b[0m\n\u001b[0;32m---> 39\u001b[0;31m         \u001b[0;32mreturn\u001b[0m \u001b[0mself\u001b[0m\u001b[0;34m.\u001b[0m\u001b[0m_body\u001b[0m\u001b[0;34m[\u001b[0m\u001b[0;34m'release_date'\u001b[0m\u001b[0;34m]\u001b[0m\u001b[0;34m\u001b[0m\u001b[0m\n\u001b[0m\u001b[1;32m     40\u001b[0m \u001b[0;34m\u001b[0m\u001b[0m\n\u001b[1;32m     41\u001b[0m     \u001b[0;34m@\u001b[0m\u001b[0mproperty\u001b[0m\u001b[0;34m\u001b[0m\u001b[0m\n",
      "\u001b[0;31mKeyError\u001b[0m: 'release_date'"
     ]
    }
   ],
   "source": [
    "# The response format of the JSON object from Genius.com changed...\n",
    "song.year"
   ]
  }
 ],
 "metadata": {
  "kernelspec": {
   "display_name": "Python 2",
   "language": "python",
   "name": "python2"
  },
  "language_info": {
   "codemirror_mode": {
    "name": "ipython",
    "version": 2
   },
   "file_extension": ".py",
   "mimetype": "text/x-python",
   "name": "python",
   "nbconvert_exporter": "python",
   "pygments_lexer": "ipython2",
   "version": "2.7.14"
  }
 },
 "nbformat": 4,
 "nbformat_minor": 2
}
