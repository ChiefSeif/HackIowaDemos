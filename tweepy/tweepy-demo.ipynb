{
 "cells": [
  {
   "cell_type": "markdown",
   "metadata": {},
   "source": [
    "## Import Tweepy"
   ]
  },
  {
   "cell_type": "code",
   "execution_count": 1,
   "metadata": {},
   "outputs": [
    {
     "name": "stdout",
     "output_type": "stream",
     "text": [
      "Populating the interactive namespace from numpy and matplotlib\n"
     ]
    }
   ],
   "source": [
    "%pylab inline\n",
    "import tweepy"
   ]
  },
  {
   "cell_type": "markdown",
   "metadata": {},
   "source": [
    "## Set up API credentials"
   ]
  },
  {
   "cell_type": "code",
   "execution_count": 2,
   "metadata": {},
   "outputs": [],
   "source": [
    "from tweepy import secrets\n",
    "## API KEYS\n",
    "consumer_key = secrets.consumer_key\n",
    "consumer_secret = secrets.consumer_secret\n",
    "access_key = secrets.access_token\n",
    "access_secret = secrets.access_secret\n",
    "\n",
    "## Set up Auth\n",
    "auth = tweepy.OAuthHandler(consumer_key, consumer_secret)\n",
    "auth.set_access_token(access_key, access_secret)\n",
    "api = tweepy.API(auth,wait_on_rate_limit=True)"
   ]
  },
  {
   "cell_type": "markdown",
   "metadata": {},
   "source": [
    "## Get Tweets from a user"
   ]
  },
  {
   "cell_type": "code",
   "execution_count": 3,
   "metadata": {},
   "outputs": [],
   "source": [
    "username = 'realdonaldtrump'\n",
    "results = api.user_timeline(username, count=10, include_rts=0)"
   ]
  },
  {
   "cell_type": "code",
   "execution_count": 4,
   "metadata": {},
   "outputs": [
    {
     "name": "stdout",
     "output_type": "stream",
     "text": [
      "THANK YOU ASIA! #USA🇺🇸 https://t.co/FziKSbrzcu\n"
     ]
    }
   ],
   "source": [
    "print(results[0].text)"
   ]
  },
  {
   "cell_type": "code",
   "execution_count": 5,
   "metadata": {},
   "outputs": [
    {
     "name": "stdout",
     "output_type": "stream",
     "text": [
      "I will be making a major statement from the @WhiteHouse upon my return to D.C. Time and date to be set.\n"
     ]
    }
   ],
   "source": [
    "print(results[3].text)"
   ]
  },
  {
   "cell_type": "markdown",
   "metadata": {},
   "source": [
    "## Post to your Timeline"
   ]
  },
  {
   "cell_type": "code",
   "execution_count": 9,
   "metadata": {},
   "outputs": [],
   "source": [
    "api.update_status(\"Hello, world!\");"
   ]
  },
  {
   "cell_type": "markdown",
   "metadata": {},
   "source": [
    "## Stream Tweets with a particular phrase"
   ]
  },
  {
   "cell_type": "markdown",
   "metadata": {},
   "source": [
    "#### Override tweepy.StreamListener"
   ]
  },
  {
   "cell_type": "code",
   "execution_count": 16,
   "metadata": {},
   "outputs": [],
   "source": [
    "import time, json\n",
    "class MyStreamListener(tweepy.StreamListener):\n",
    "    def __init__(self, time_limit=60):\n",
    "        self.start_time = time.time()\n",
    "        self.limit = time_limit\n",
    "        super(MyStreamListener, self).__init__()\n",
    "\n",
    "    def on_data(self, data):\n",
    "        if (time.time() - self.start_time) < self.limit:\n",
    "            db = json.loads(data)\n",
    "            if 'text' in db:\n",
    "                txt = db['text'].encode('ascii','ignore').decode('ascii')\n",
    "                print(txt + '\\n')\n",
    "                return True\n",
    "            else:\n",
    "                return False\n",
    "        else:\n",
    "            return False              "
   ]
  },
  {
   "cell_type": "markdown",
   "metadata": {},
   "source": [
    "#### Stream the Tweets"
   ]
  },
  {
   "cell_type": "code",
   "execution_count": 19,
   "metadata": {},
   "outputs": [
    {
     "name": "stdout",
     "output_type": "stream",
     "text": [
      "RT @ISUPD: Youre under arrest https://t.co/ixOFBuN2pQ\n",
      "\n",
      "POSTING PICS IN EVERY AUTOMOTIVE SHOP AND STORAGE UNITE FROM HERE TO IOWA THIEVES ARE LIKE ROACHES. https://t.co/5KgdJQ92bh\n",
      "\n",
      "RT @ISUPD: Youre under arrest https://t.co/ixOFBuN2pQ\n",
      "\n",
      "RT @ISUPD: Youre under arrest https://t.co/ixOFBuN2pQ\n",
      "\n",
      "RT @ISUPD: Youre under arrest https://t.co/ixOFBuN2pQ\n",
      "\n",
      "RT @ISUPD: Youre under arrest https://t.co/ixOFBuN2pQ\n",
      "\n",
      "RT @ChuckGrassley: Tax reform means HELP IS ON THE WAY for Iowans. Tax Foundation says the Sen Finance Cmte tax cut plan would create \n",
      "\n",
      "RT @TrueFactsStated: They do deserve better and with @Scholten4Iowa they will have it!  Go. Fight. Win. https://t.co/LinkAAKpEh\n",
      "\n"
     ]
    }
   ],
   "source": [
    "max_time = 5\n",
    "search_term = [\"iowa\"] # This must be a list!\n",
    "myStream = tweepy.Stream(auth=api.auth, listener=MyStreamListener(time_limit=max_time))\n",
    "myStream.filter(track=search_term)"
   ]
  },
  {
   "cell_type": "markdown",
   "metadata": {},
   "source": [
    "## Explore Tweepy!"
   ]
  },
  {
   "cell_type": "code",
   "execution_count": 15,
   "metadata": {},
   "outputs": [
    {
     "name": "stdout",
     "output_type": "stream",
     "text": [
      "https://github.com/tweepy/tweepy\n"
     ]
    }
   ],
   "source": [
    "print(\"https://github.com/tweepy/tweepy\")"
   ]
  }
 ],
 "metadata": {
  "kernelspec": {
   "display_name": "Python 2",
   "language": "python",
   "name": "python2"
  },
  "language_info": {
   "codemirror_mode": {
    "name": "ipython",
    "version": 2
   },
   "file_extension": ".py",
   "mimetype": "text/x-python",
   "name": "python",
   "nbconvert_exporter": "python",
   "pygments_lexer": "ipython2",
   "version": "2.7.14"
  }
 },
 "nbformat": 4,
 "nbformat_minor": 2
}
